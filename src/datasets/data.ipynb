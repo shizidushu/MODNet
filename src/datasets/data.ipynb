{
 "cells": [
  {
   "cell_type": "code",
   "execution_count": 1,
   "metadata": {},
   "outputs": [
    {
     "name": "stderr",
     "output_type": "stream",
     "text": [
      "/home/ubuntu/miniconda3/envs/hrnet/lib/python3.8/site-packages/tqdm/auto.py:22: TqdmWarning: IProgress not found. Please update jupyter and ipywidgets. See https://ipywidgets.readthedocs.io/en/stable/user_install.html\n",
      "  from .autonotebook import tqdm as notebook_tqdm\n"
     ]
    }
   ],
   "source": [
    "from base_dataset import BaseDataset, MattingTransform\n",
    "\n",
    "import numpy as np\n",
    "from PIL import Image\n",
    "import cv2"
   ]
  },
  {
   "cell_type": "code",
   "execution_count": 2,
   "metadata": {},
   "outputs": [
    {
     "name": "stdout",
     "output_type": "stream",
     "text": [
      "5678\n"
     ]
    }
   ],
   "source": [
    "root_dir = '/home/ubuntu/data/workspace/deeplabv3_plus/people_segmentation'\n",
    "train_transform = MattingTransform()\n",
    "ds = BaseDataset(root_dir, image_dir=\"images\", mask_dir=\"masks\", transform=train_transform)\n",
    "# ds = BaseDataset(root_dir)"
   ]
  },
  {
   "cell_type": "code",
   "execution_count": 3,
   "metadata": {},
   "outputs": [],
   "source": [
    "sample = ds[4]"
   ]
  },
  {
   "cell_type": "code",
   "execution_count": 4,
   "metadata": {},
   "outputs": [],
   "source": [
    "fn, img, trimap, mask = sample"
   ]
  },
  {
   "cell_type": "code",
   "execution_count": 5,
   "metadata": {},
   "outputs": [
    {
     "data": {
      "text/plain": [
       "torch.Size([3, 512, 512])"
      ]
     },
     "execution_count": 5,
     "metadata": {},
     "output_type": "execute_result"
    }
   ],
   "source": [
    "img.shape"
   ]
  },
  {
   "cell_type": "code",
   "execution_count": 6,
   "metadata": {},
   "outputs": [
    {
     "data": {
      "text/plain": [
       "array([-1.        , -0.99215686, -0.9843137 , -0.9764706 , -0.96862745,\n",
       "       -0.9607843 , -0.9529412 , -0.94509804, -0.9372549 , -0.92941177,\n",
       "       -0.92156863, -0.9137255 , -0.90588236, -0.8980392 , -0.8901961 ,\n",
       "       -0.88235295, -0.8745098 , -0.8666667 , -0.85882354, -0.8509804 ,\n",
       "       -0.84313726, -0.8352941 , -0.827451  , -0.81960785, -0.8117647 ,\n",
       "       -0.8039216 , -0.79607844, -0.7882353 , -0.78039217, -0.77254903,\n",
       "       -0.7647059 , -0.75686276, -0.7490196 , -0.7411765 , -0.73333335,\n",
       "       -0.7254902 , -0.7176471 , -0.70980394, -0.7019608 , -0.69411767,\n",
       "       -0.6862745 , -0.6784314 , -0.67058825, -0.6627451 , -0.654902  ,\n",
       "       -0.64705884, -0.6392157 , -0.6313726 , -0.62352943, -0.6156863 ,\n",
       "       -0.60784316, -0.6       , -0.5921569 , -0.58431375, -0.5764706 ,\n",
       "       -0.5686275 , -0.56078434, -0.5529412 , -0.54509807, -0.5372549 ,\n",
       "       -0.5294118 , -0.52156866, -0.5137255 , -0.5058824 , -0.4980392 ,\n",
       "       -0.49019605, -0.4823529 , -0.47450978, -0.46666664, -0.4588235 ,\n",
       "       -0.45098037, -0.44313723, -0.4352941 , -0.42745095, -0.41960782,\n",
       "       -0.41176468, -0.40392154, -0.3960784 , -0.38823527, -0.38039213,\n",
       "       -0.372549  , -0.36470586, -0.35686272, -0.3490196 , -0.34117645,\n",
       "       -0.3333333 , -0.32549018, -0.31764704, -0.3098039 , -0.30196077,\n",
       "       -0.29411763, -0.2862745 , -0.27843136, -0.27058822, -0.26274508,\n",
       "       -0.25490195, -0.24705881, -0.23921567, -0.23137254, -0.2235294 ,\n",
       "       -0.21568626, -0.20784312, -0.19999999, -0.19215685, -0.18431371,\n",
       "       -0.17647058, -0.16862744, -0.1607843 , -0.15294117, -0.14509803,\n",
       "       -0.1372549 , -0.12941176, -0.12156862, -0.11372548, -0.10588235,\n",
       "       -0.09803921, -0.09019607, -0.08235294, -0.0745098 , -0.06666666,\n",
       "       -0.05882353, -0.05098039, -0.04313725, -0.03529412, -0.02745098,\n",
       "       -0.01960784, -0.01176471, -0.00392157,  0.00392163,  0.01176476,\n",
       "        0.0196079 ,  0.02745104,  0.03529418,  0.04313731,  0.05098045,\n",
       "        0.05882359,  0.06666672,  0.07450986,  0.082353  ,  0.09019613,\n",
       "        0.09803927,  0.10588241,  0.11372554,  0.12156868,  0.12941182,\n",
       "        0.13725495,  0.14509809,  0.15294123,  0.16078436,  0.1686275 ,\n",
       "        0.17647064,  0.18431377,  0.19215691,  0.20000005,  0.20784318,\n",
       "        0.21568632,  0.22352946,  0.2313726 ,  0.23921573,  0.24705887,\n",
       "        0.254902  ,  0.26274514,  0.27058828,  0.27843142,  0.28627455,\n",
       "        0.2941177 ,  0.30196083,  0.30980396,  0.3176471 ,  0.32549024,\n",
       "        0.33333337,  0.3411765 ,  0.34901965,  0.35686278,  0.36470592,\n",
       "        0.37254906,  0.3803922 ,  0.38823533,  0.39607847,  0.4039216 ,\n",
       "        0.41176474,  0.41960788,  0.427451  ,  0.43529415,  0.4431373 ,\n",
       "        0.45098042,  0.45882356,  0.4666667 ,  0.47450984,  0.48235297,\n",
       "        0.4901961 ,  0.49803925,  0.5058824 ,  0.5137255 ,  0.52156866,\n",
       "        0.5294118 ,  0.5372549 ,  0.54509807,  0.5529412 ,  0.56078434,\n",
       "        0.5686275 ,  0.5764706 ,  0.58431375,  0.5921569 ,  0.6       ,\n",
       "        0.60784316,  0.6156863 ,  0.62352943,  0.6313726 ,  0.6392157 ,\n",
       "        0.64705884,  0.654902  ,  0.6627451 ,  0.67058825,  0.6784314 ,\n",
       "        0.6862745 ,  0.69411767,  0.7019608 ,  0.70980394,  0.7176471 ,\n",
       "        0.7254902 ,  0.73333335,  0.7411765 ,  0.7490196 ,  0.75686276,\n",
       "        0.7647059 ,  0.77254903,  0.78039217,  0.7882353 ,  0.79607844,\n",
       "        0.8039216 ,  0.8117647 ,  0.81960785,  0.827451  ,  0.8352941 ,\n",
       "        0.84313726,  0.8509804 ,  0.85882354,  0.8666667 ,  0.8745098 ,\n",
       "        0.88235295,  0.8901961 ,  0.8980392 ,  0.90588236,  0.9137255 ,\n",
       "        0.92156863,  0.92941177,  0.9372549 ,  0.94509804,  0.9529412 ,\n",
       "        0.9607843 ,  0.96862745,  0.9764706 ,  0.9843137 ,  0.99215686,\n",
       "        1.        ], dtype=float32)"
      ]
     },
     "execution_count": 6,
     "metadata": {},
     "output_type": "execute_result"
    }
   ],
   "source": [
    "np.unique(img)"
   ]
  },
  {
   "cell_type": "code",
   "execution_count": null,
   "metadata": {},
   "outputs": [],
   "source": [
    "mask.shape"
   ]
  },
  {
   "cell_type": "code",
   "execution_count": null,
   "metadata": {},
   "outputs": [],
   "source": [
    "trimap.shape"
   ]
  },
  {
   "cell_type": "code",
   "execution_count": null,
   "metadata": {},
   "outputs": [],
   "source": [
    "fn"
   ]
  },
  {
   "cell_type": "code",
   "execution_count": null,
   "metadata": {},
   "outputs": [],
   "source": [
    "Image.fromarray(np.array(np.squeeze(np.transpose(img, (1, 2, 0))).numpy() * 255.0, dtype=np.uint8))"
   ]
  },
  {
   "cell_type": "code",
   "execution_count": null,
   "metadata": {},
   "outputs": [],
   "source": [
    "Image.fromarray(np.array(np.squeeze(np.transpose(mask, (1, 2, 0))).numpy() * 255.0, dtype=np.uint8))"
   ]
  },
  {
   "cell_type": "code",
   "execution_count": null,
   "metadata": {},
   "outputs": [],
   "source": [
    "Image.fromarray(np.array(np.squeeze(np.transpose(trimap, (1, 2, 0))).numpy() * 255.0, dtype=np.uint8))"
   ]
  },
  {
   "cell_type": "code",
   "execution_count": null,
   "metadata": {},
   "outputs": [],
   "source": [
    "from torch.utils.data import Dataset, DataLoader\n",
    "from torchvision import transforms\n",
    "import os\n",
    "from scipy.ndimage import morphology\n",
    "import numpy as np\n",
    "from PIL import Image\n",
    "import cv2"
   ]
  },
  {
   "cell_type": "code",
   "execution_count": null,
   "metadata": {},
   "outputs": [],
   "source": [
    "torch_transforms = transforms.Compose(\n",
    "    [\n",
    "        transforms.ToTensor(),\n",
    "        transforms.Normalize((0.5, 0.5, 0.5), (0.5, 0.5, 0.5)),\n",
    "    ]\n",
    ")"
   ]
  },
  {
   "cell_type": "code",
   "execution_count": null,
   "metadata": {},
   "outputs": [],
   "source": [
    "class ImagesDataset(Dataset):\n",
    "    def __init__(self, root, transform=None, w=1024, h=576):\n",
    "        self.root = root\n",
    "        self.transform = transform\n",
    "        self.tensor = transforms.Compose([transforms.ToTensor()])\n",
    "        self.w = w\n",
    "        self.h = h\n",
    "        self.imgs = sorted([os.path.join(self.root, 'images', img) for img in os.listdir(os.path.join(self.root, 'images'))])\n",
    "        self.alphas = sorted([os.path.join(self.root, 'masks', aph) for aph in os.listdir(os.path.join(self.root, 'masks'))])\n",
    "        print(len(self.imgs))\n",
    "        assert len(self.imgs) == len(self.alphas), 'the number of dataset is different, please check it.'\n",
    "\n",
    "\n",
    "    def getTrimap(self, alpha):\n",
    "        fg = np.array(np.equal(alpha, 255).astype(np.float32))\n",
    "        unknown = np.array(np.not_equal(alpha, 0).astype(np.float32))  # unknown = alpha > 0\n",
    "        unknown = unknown - fg\n",
    "        unknown = morphology.distance_transform_edt(unknown == 0) <= np.random.randint(10, 20)\n",
    "        trimap = fg\n",
    "        trimap[unknown] = 0.5\n",
    "        return trimap[:, :, :1]\n",
    "\n",
    "    def __len__(self):\n",
    "        return len(self.imgs)\n",
    "\n",
    "    def __getitem__(self, idx):\n",
    "        img = cv2.imread(self.imgs[idx])\n",
    "        alpha = cv2.imread(self.alphas[idx])\n",
    "        # h, w, c = img.shape\n",
    "        # rh = 512\n",
    "        # rw = int(w / h * 512)\n",
    "        # rh = rh - rh % 32 #512\n",
    "        # rw = rw - rw % 32 #896    1024 or 576 %32==0\n",
    "        img = cv2.resize(img, (self.w, self.h))\n",
    "        alpha = cv2.resize(alpha, (self.w, self.h))\n",
    "        trimap = self.getTrimap(alpha)\n",
    "        if self.transform:\n",
    "            img = self.transform(img)\n",
    "        alpha = self.tensor(alpha[:, :, 0])\n",
    "        return self.imgs[idx], img, trimap, alpha"
   ]
  },
  {
   "cell_type": "code",
   "execution_count": null,
   "metadata": {},
   "outputs": [],
   "source": [
    "ds = ImagesDataset(\"/home/ubuntu/data/workspace/deeplabv3_plus/people_segmentation\", torch_transforms)"
   ]
  },
  {
   "cell_type": "code",
   "execution_count": null,
   "metadata": {},
   "outputs": [],
   "source": [
    "sample = ds[4]"
   ]
  },
  {
   "cell_type": "code",
   "execution_count": null,
   "metadata": {},
   "outputs": [],
   "source": [
    "fn, img, trimap, alpha = sample"
   ]
  },
  {
   "cell_type": "code",
   "execution_count": null,
   "metadata": {},
   "outputs": [],
   "source": [
    "img.shape"
   ]
  },
  {
   "cell_type": "code",
   "execution_count": null,
   "metadata": {},
   "outputs": [],
   "source": [
    "trimap.shape"
   ]
  },
  {
   "cell_type": "code",
   "execution_count": null,
   "metadata": {},
   "outputs": [],
   "source": [
    "alpha.shape"
   ]
  }
 ],
 "metadata": {
  "kernelspec": {
   "display_name": "Python 3.8.13 ('hrnet')",
   "language": "python",
   "name": "python3"
  },
  "language_info": {
   "codemirror_mode": {
    "name": "ipython",
    "version": 3
   },
   "file_extension": ".py",
   "mimetype": "text/x-python",
   "name": "python",
   "nbconvert_exporter": "python",
   "pygments_lexer": "ipython3",
   "version": "3.8.13"
  },
  "orig_nbformat": 4,
  "vscode": {
   "interpreter": {
    "hash": "598fd409a443807d6a2169d707c3340b253e6d0666aad806a3124513fbe3224b"
   }
  }
 },
 "nbformat": 4,
 "nbformat_minor": 2
}
