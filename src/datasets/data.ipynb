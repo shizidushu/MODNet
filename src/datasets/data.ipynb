{
 "cells": [
  {
   "cell_type": "code",
   "execution_count": 1,
   "metadata": {},
   "outputs": [
    {
     "name": "stderr",
     "output_type": "stream",
     "text": [
      "/home/ubuntu/miniconda3/envs/hrnet/lib/python3.8/site-packages/tqdm/auto.py:22: TqdmWarning: IProgress not found. Please update jupyter and ipywidgets. See https://ipywidgets.readthedocs.io/en/stable/user_install.html\n",
      "  from .autonotebook import tqdm as notebook_tqdm\n"
     ]
    }
   ],
   "source": [
    "from base_dataset import BaseDataset, MattingTransform\n",
    "\n",
    "import numpy as np\n",
    "from PIL import Image\n",
    "import cv2"
   ]
  },
  {
   "cell_type": "code",
   "execution_count": 2,
   "metadata": {},
   "outputs": [
    {
     "name": "stdout",
     "output_type": "stream",
     "text": [
      "5678\n"
     ]
    }
   ],
   "source": [
    "root_dir = '/home/ubuntu/data/workspace/deeplabv3_plus/people_segmentation'\n",
    "train_transform = MattingTransform()\n",
    "ds = BaseDataset(root_dir, image_dir=\"images\", mask_dir=\"masks\", transform=train_transform)\n",
    "# ds = BaseDataset(root_dir)"
   ]
  },
  {
   "cell_type": "code",
   "execution_count": 3,
   "metadata": {},
   "outputs": [],
   "source": [
    "sample = ds[4]"
   ]
  },
  {
   "cell_type": "code",
   "execution_count": 4,
   "metadata": {},
   "outputs": [],
   "source": [
    "fn, img, trimap, mask = sample"
   ]
  },
  {
   "cell_type": "code",
   "execution_count": 5,
   "metadata": {},
   "outputs": [
    {
     "data": {
      "text/plain": [
       "torch.Size([3, 512, 512])"
      ]
     },
     "execution_count": 5,
     "metadata": {},
     "output_type": "execute_result"
    }
   ],
   "source": [
    "img.shape"
   ]
  },
  {
   "cell_type": "code",
   "execution_count": 6,
   "metadata": {},
   "outputs": [
    {
     "data": {
      "text/plain": [
       "torch.Size([1, 512, 512])"
      ]
     },
     "execution_count": 6,
     "metadata": {},
     "output_type": "execute_result"
    }
   ],
   "source": [
    "mask.shape"
   ]
  },
  {
   "cell_type": "code",
   "execution_count": 7,
   "metadata": {},
   "outputs": [
    {
     "data": {
      "text/plain": [
       "torch.Size([512, 512, 1])"
      ]
     },
     "execution_count": 7,
     "metadata": {},
     "output_type": "execute_result"
    }
   ],
   "source": [
    "trimap.shape"
   ]
  },
  {
   "cell_type": "code",
   "execution_count": null,
   "metadata": {},
   "outputs": [],
   "source": [
    "fn"
   ]
  },
  {
   "cell_type": "code",
   "execution_count": null,
   "metadata": {},
   "outputs": [],
   "source": [
    "Image.fromarray(np.array(np.squeeze(np.transpose(img, (1, 2, 0))).numpy() * 255.0, dtype=np.uint8))"
   ]
  },
  {
   "cell_type": "code",
   "execution_count": null,
   "metadata": {},
   "outputs": [],
   "source": [
    "Image.fromarray(np.array(np.squeeze(np.transpose(mask, (1, 2, 0))).numpy() * 255.0, dtype=np.uint8))"
   ]
  },
  {
   "cell_type": "code",
   "execution_count": null,
   "metadata": {},
   "outputs": [],
   "source": [
    "Image.fromarray(np.array(np.squeeze(np.transpose(trimap, (1, 2, 0))).numpy() * 255.0, dtype=np.uint8))"
   ]
  },
  {
   "cell_type": "code",
   "execution_count": 8,
   "metadata": {},
   "outputs": [],
   "source": [
    "from torch.utils.data import Dataset, DataLoader\n",
    "from torchvision import transforms\n",
    "import os\n",
    "from scipy.ndimage import morphology\n",
    "import numpy as np\n",
    "from PIL import Image\n",
    "import cv2"
   ]
  },
  {
   "cell_type": "code",
   "execution_count": 16,
   "metadata": {},
   "outputs": [],
   "source": [
    "torch_transforms = transforms.Compose(\n",
    "    [\n",
    "        transforms.ToTensor(),\n",
    "        transforms.Normalize((0.5, 0.5, 0.5), (0.5, 0.5, 0.5)),\n",
    "    ]\n",
    ")"
   ]
  },
  {
   "cell_type": "code",
   "execution_count": 9,
   "metadata": {},
   "outputs": [],
   "source": [
    "class ImagesDataset(Dataset):\n",
    "    def __init__(self, root, transform=None, w=1024, h=576):\n",
    "        self.root = root\n",
    "        self.transform = transform\n",
    "        self.tensor = transforms.Compose([transforms.ToTensor()])\n",
    "        self.w = w\n",
    "        self.h = h\n",
    "        self.imgs = sorted([os.path.join(self.root, 'images', img) for img in os.listdir(os.path.join(self.root, 'images'))])\n",
    "        self.alphas = sorted([os.path.join(self.root, 'masks', aph) for aph in os.listdir(os.path.join(self.root, 'masks'))])\n",
    "        print(len(self.imgs))\n",
    "        assert len(self.imgs) == len(self.alphas), 'the number of dataset is different, please check it.'\n",
    "\n",
    "\n",
    "    def getTrimap(self, alpha):\n",
    "        fg = np.array(np.equal(alpha, 255).astype(np.float32))\n",
    "        unknown = np.array(np.not_equal(alpha, 0).astype(np.float32))  # unknown = alpha > 0\n",
    "        unknown = unknown - fg\n",
    "        unknown = morphology.distance_transform_edt(unknown == 0) <= np.random.randint(10, 20)\n",
    "        trimap = fg\n",
    "        trimap[unknown] = 0.5\n",
    "        return trimap[:, :, :1]\n",
    "\n",
    "    def __len__(self):\n",
    "        return len(self.imgs)\n",
    "\n",
    "    def __getitem__(self, idx):\n",
    "        img = cv2.imread(self.imgs[idx])\n",
    "        alpha = cv2.imread(self.alphas[idx])\n",
    "        # h, w, c = img.shape\n",
    "        # rh = 512\n",
    "        # rw = int(w / h * 512)\n",
    "        # rh = rh - rh % 32 #512\n",
    "        # rw = rw - rw % 32 #896    1024 or 576 %32==0\n",
    "        img = cv2.resize(img, (self.w, self.h))\n",
    "        alpha = cv2.resize(alpha, (self.w, self.h))\n",
    "        trimap = self.getTrimap(alpha)\n",
    "        if self.transform:\n",
    "            img = self.transform(img)\n",
    "        alpha = self.tensor(alpha[:, :, 0])\n",
    "        return self.imgs[idx], img, trimap, alpha"
   ]
  },
  {
   "cell_type": "code",
   "execution_count": 17,
   "metadata": {},
   "outputs": [
    {
     "name": "stdout",
     "output_type": "stream",
     "text": [
      "5678\n"
     ]
    }
   ],
   "source": [
    "ds = ImagesDataset(\"/home/ubuntu/data/workspace/deeplabv3_plus/people_segmentation\", torch_transforms)"
   ]
  },
  {
   "cell_type": "code",
   "execution_count": 18,
   "metadata": {},
   "outputs": [
    {
     "name": "stderr",
     "output_type": "stream",
     "text": [
      "/tmp/ipykernel_2711243/3324219205.py:18: DeprecationWarning: Please use `distance_transform_edt` from the `scipy.ndimage` namespace, the `scipy.ndimage.morphology` namespace is deprecated.\n",
      "  unknown = morphology.distance_transform_edt(unknown == 0) <= np.random.randint(10, 20)\n"
     ]
    }
   ],
   "source": [
    "sample = ds[4]"
   ]
  },
  {
   "cell_type": "code",
   "execution_count": 19,
   "metadata": {},
   "outputs": [],
   "source": [
    "fn, img, trimap, alpha = sample"
   ]
  },
  {
   "cell_type": "code",
   "execution_count": 20,
   "metadata": {},
   "outputs": [
    {
     "data": {
      "text/plain": [
       "torch.Size([3, 576, 1024])"
      ]
     },
     "execution_count": 20,
     "metadata": {},
     "output_type": "execute_result"
    }
   ],
   "source": [
    "img.shape"
   ]
  },
  {
   "cell_type": "code",
   "execution_count": 21,
   "metadata": {},
   "outputs": [
    {
     "data": {
      "text/plain": [
       "(576, 1024, 1)"
      ]
     },
     "execution_count": 21,
     "metadata": {},
     "output_type": "execute_result"
    }
   ],
   "source": [
    "trimap.shape"
   ]
  },
  {
   "cell_type": "code",
   "execution_count": 22,
   "metadata": {},
   "outputs": [
    {
     "data": {
      "text/plain": [
       "torch.Size([1, 576, 1024])"
      ]
     },
     "execution_count": 22,
     "metadata": {},
     "output_type": "execute_result"
    }
   ],
   "source": [
    "alpha.shape"
   ]
  }
 ],
 "metadata": {
  "kernelspec": {
   "display_name": "Python 3.8.13 ('hrnet')",
   "language": "python",
   "name": "python3"
  },
  "language_info": {
   "codemirror_mode": {
    "name": "ipython",
    "version": 3
   },
   "file_extension": ".py",
   "mimetype": "text/x-python",
   "name": "python",
   "nbconvert_exporter": "python",
   "pygments_lexer": "ipython3",
   "version": "3.8.13"
  },
  "orig_nbformat": 4,
  "vscode": {
   "interpreter": {
    "hash": "598fd409a443807d6a2169d707c3340b253e6d0666aad806a3124513fbe3224b"
   }
  }
 },
 "nbformat": 4,
 "nbformat_minor": 2
}
