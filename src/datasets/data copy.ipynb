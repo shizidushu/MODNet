{
 "cells": [
  {
   "cell_type": "code",
   "execution_count": 1,
   "metadata": {},
   "outputs": [
    {
     "name": "stderr",
     "output_type": "stream",
     "text": [
      "/home/ubuntu/miniconda3/envs/hrnet/lib/python3.8/site-packages/tqdm/auto.py:22: TqdmWarning: IProgress not found. Please update jupyter and ipywidgets. See https://ipywidgets.readthedocs.io/en/stable/user_install.html\n",
      "  from .autonotebook import tqdm as notebook_tqdm\n"
     ]
    }
   ],
   "source": [
    "from base_dataset import BaseDataset\n",
    "\n",
    "from torchvision import transforms\n",
    "import numpy as np\n",
    "from PIL import Image\n",
    "import cv2\n",
    "\n",
    "from util import gen_trimap, gen_trimap_with_dilate, gen_trimap_with_dilate_bbox"
   ]
  },
  {
   "cell_type": "code",
   "execution_count": 809,
   "metadata": {},
   "outputs": [
    {
     "name": "stdout",
     "output_type": "stream",
     "text": [
      "5678 samples\n"
     ]
    }
   ],
   "source": [
    "# root_dir = '/home/ubuntu/data/workspace/deeplabv3_plus/people_segmentation'\n",
    "# ds = BaseDataset(root_dir, img_dir=\"images\", alpha_dir=\"masks\")"
   ]
  },
  {
   "cell_type": "code",
   "execution_count": 985,
   "metadata": {},
   "outputs": [
    {
     "name": "stdout",
     "output_type": "stream",
     "text": [
      "100 samples\n"
     ]
    }
   ],
   "source": [
    "# ds = BaseDataset( \"/home/ubuntu/data/yong/projects/MODNet/data/PPM-100\",\n",
    "#         \"image\",\n",
    "#         \"matte\")"
   ]
  },
  {
   "cell_type": "code",
   "execution_count": 1005,
   "metadata": {},
   "outputs": [
    {
     "name": "stdout",
     "output_type": "stream",
     "text": [
      "9421 samples\n"
     ]
    }
   ],
   "source": [
    "# ds = BaseDataset( \"/home/ubuntu/data/yong/projects/P3M/data/P3M-10k/train\",\n",
    "#         \"blurred_image\",\n",
    "#         \"mask\")"
   ]
  },
  {
   "cell_type": "code",
   "execution_count": 1039,
   "metadata": {},
   "outputs": [
    {
     "name": "stdout",
     "output_type": "stream",
     "text": [
      "290 samples\n"
     ]
    }
   ],
   "source": [
    "# ds = BaseDataset( \"/home/ubuntu/data/yong/dataset/Human-Segmentation-Dataset\",\n",
    "#         \"Training_Images\",\n",
    "#         \"Ground_Truth\")"
   ]
  },
  {
   "cell_type": "code",
   "execution_count": 1078,
   "metadata": {},
   "outputs": [
    {
     "name": "stdout",
     "output_type": "stream",
     "text": [
      "428 samples\n"
     ]
    }
   ],
   "source": [
    "# ds = BaseDataset( \"/home/ubuntu/data/yong/dataset/human_matting_dataset_kaggle\",\n",
    "#         \"JPEGImages\",\n",
    "#         \"SegmentationClassPNG\")"
   ]
  },
  {
   "cell_type": "code",
   "execution_count": 1109,
   "metadata": {},
   "outputs": [
    {
     "name": "stdout",
     "output_type": "stream",
     "text": [
      "1192 samples\n"
     ]
    }
   ],
   "source": [
    "# ds = BaseDataset( \"/home/ubuntu/data/yong/dataset/segmentation_full_body_mads_dataset_1192_img\",\n",
    "#         \"images\",\n",
    "#         \"masks\")"
   ]
  },
  {
   "cell_type": "code",
   "execution_count": 1199,
   "metadata": {},
   "outputs": [
    {
     "name": "stdout",
     "output_type": "stream",
     "text": [
      "636 samples\n"
     ]
    }
   ],
   "source": [
    "# ds = BaseDataset( \"/home/ubuntu/data/yong/dataset/RealWorldPortrait-636\",\n",
    "#         \"image\",\n",
    "#         \"alpha\")"
   ]
  },
  {
   "cell_type": "code",
   "execution_count": 1230,
   "metadata": {},
   "outputs": [
    {
     "name": "stdout",
     "output_type": "stream",
     "text": [
      "5387 samples\n"
     ]
    }
   ],
   "source": [
    "ds = BaseDataset(\"/home/ubuntu/data/yong/dataset/people_segmentation\",\n",
    "        \"images\",\n",
    "        \"profiles\")"
   ]
  },
  {
   "cell_type": "code",
   "execution_count": 1231,
   "metadata": {},
   "outputs": [
    {
     "name": "stdout",
     "output_type": "stream",
     "text": [
      "/home/ubuntu/data/yong/dataset/people_segmentation/profiles/00358-profile.jpg\n"
     ]
    }
   ],
   "source": [
    "sample = ds[50]"
   ]
  },
  {
   "cell_type": "code",
   "execution_count": 1232,
   "metadata": {},
   "outputs": [],
   "source": [
    "alpha_path, weight, img, trimap, alpha = sample"
   ]
  },
  {
   "cell_type": "code",
   "execution_count": 1233,
   "metadata": {},
   "outputs": [],
   "source": [
    "alpha = np.array(Image.open(alpha_path))\n",
    "if alpha.shape[-1] == 4:\n",
    "    if len(np.unique(alpha[..., -1])) == 1:\n",
    "        alpha = alpha[..., :-1]\n",
    "alpha = alpha[..., -1] if len(alpha.shape) > 2 else alpha\n",
    "\n",
    "if 'profile' in alpha_path:\n",
    "    alpha = 255 - alpha"
   ]
  },
  {
   "cell_type": "code",
   "execution_count": 1234,
   "metadata": {},
   "outputs": [],
   "source": [
    "if np.amax(alpha) <= 1:\n",
    "    alpha = alpha * 255.0"
   ]
  },
  {
   "cell_type": "code",
   "execution_count": 1235,
   "metadata": {},
   "outputs": [],
   "source": [
    "# Image.fromarray(np.array(alpha, dtype=np.uint8))"
   ]
  },
  {
   "cell_type": "code",
   "execution_count": 1236,
   "metadata": {},
   "outputs": [
    {
     "data": {
      "text/plain": [
       "array([  0,   1,   2,   3,   4,   5,   6,   7,   8,   9,  10,  11,  12,\n",
       "        13,  14,  15,  16,  17,  18,  19,  20,  21,  22,  23,  24,  25,\n",
       "        26,  27,  28,  29,  30,  31,  32,  33,  34,  35,  36,  37,  39,\n",
       "       216, 218, 219, 220, 221, 222, 223, 224, 225, 226, 227, 228, 229,\n",
       "       230, 231, 232, 233, 234, 235, 236, 237, 238, 239, 240, 241, 242,\n",
       "       243, 244, 245, 246, 247, 248, 249, 250, 251, 252, 253, 254, 255],\n",
       "      dtype=uint8)"
      ]
     },
     "execution_count": 1236,
     "metadata": {},
     "output_type": "execute_result"
    }
   ],
   "source": [
    "np.unique(alpha)"
   ]
  },
  {
   "cell_type": "code",
   "execution_count": 1237,
   "metadata": {},
   "outputs": [],
   "source": [
    "import random"
   ]
  },
  {
   "cell_type": "code",
   "execution_count": 1238,
   "metadata": {},
   "outputs": [],
   "source": [
    "def get_bbox(alpha):\n",
    "    foreground = alpha > 0.0\n",
    "    res = None\n",
    "    res = Image.fromarray(foreground).getbbox()\n",
    "    if res is None:\n",
    "        left, upper, right, ylower = 0, 0, alpha.shape[1], alpha.shape[0]\n",
    "    else:\n",
    "        left, upper, right, ylower = res\n",
    "    return (left, upper, right, ylower)"
   ]
  },
  {
   "cell_type": "code",
   "execution_count": 1239,
   "metadata": {},
   "outputs": [],
   "source": [
    "def draw_bbox(alpha):\n",
    "    rect = get_bbox(alpha)\n",
    "    rect_width = rect[2] - rect[0]\n",
    "    rect_height = rect[3] - rect[1]\n",
    "    res = cv2.rectangle(np.array(alpha, dtype=np.uint8), rect[:2], rect[2:], color = 128, thickness =2)\n",
    "    return res"
   ]
  },
  {
   "cell_type": "code",
   "execution_count": 1240,
   "metadata": {},
   "outputs": [],
   "source": [
    "# res  = draw_bbox(alpha)\n",
    "# Image.fromarray(np.array(res, dtype=np.uint8))"
   ]
  },
  {
   "cell_type": "code",
   "execution_count": 1257,
   "metadata": {},
   "outputs": [
    {
     "name": "stdout",
     "output_type": "stream",
     "text": [
      "(0, 43, 542, 700)\n"
     ]
    },
    {
     "data": {
      "image/png": "[encoded data removed]",
      "text/plain": [
       "<PIL.Image.Image image mode=L size=512x512 at 0x7FBB7B0B0190>"
      ]
     },
     "execution_count": 1257,
     "metadata": {},
     "output_type": "execute_result"
    }
   ],
   "source": [
    "def resize_and_crop_by_alpha(alpha, ref_size = 512, random_scale = 1.5):\n",
    "    rect = get_bbox(alpha)\n",
    "    rect_width = rect[2] - rect[0]\n",
    "    rect_height = rect[3] - rect[1]\n",
    "\n",
    "    im_h, im_w = alpha.shape\n",
    "\n",
    "    # 先取alpha的BBOX\n",
    "    ## 如果BBOX的长边过小(不足ref_size的一半），则放大BBOX长边到(ref_size // 2, ref_size)\n",
    "    random_size = np.random.randint(ref_size // 2, ref_size - 1)\n",
    "    if rect_width >= rect_height:\n",
    "        r_scale = random_size / rect_width\n",
    "    else:\n",
    "        r_scale = random_size / rect_height\n",
    "    r_scale = 1 if r_scale < 1 else r_scale\n",
    "    im_rw = int(im_w * r_scale)\n",
    "    im_rh = int(im_h * r_scale)\n",
    "    # print(f'phase 1: {im_rh, im_rw}')\n",
    "    ## 如果放大后的图片短边不足ref_size，或者之前没有放大\n",
    "    ## 则将图片短边Resize到(ref_size, ref_size * 1.5)\n",
    "    if min(im_rh, im_rw) < ref_size or r_scale == 1:\n",
    "        random_size = np.random.randint(ref_size, int(ref_size * random_scale))\n",
    "        if im_rw >= im_rh:\n",
    "            im_rw = int(im_rw / im_rh * random_size)\n",
    "            im_rh = random_size\n",
    "        elif im_rw < im_rh:\n",
    "            im_rh = int(im_rh / im_rw * random_size)\n",
    "            im_rw = random_size\n",
    "        # print(f'phase 2: {im_rh, im_rw}')\n",
    "    \n",
    "    # img = cv2.resize(img, (im_rw, im_rh), interpolation=cv2.INTER_LINEAR)\n",
    "    alpha = cv2.resize(alpha, (im_rw, im_rh), interpolation=cv2.INTER_LINEAR)\n",
    "    rect = get_bbox(alpha)\n",
    "    rect_width = rect[2] - rect[0]\n",
    "    rect_height = rect[3] - rect[1]\n",
    "    print(rect)\n",
    "    # print(f'new rect height, wdith: {rect_height, rect_width}')\n",
    "\n",
    "    # random crop\n",
    "    x0 = random.randint(max(0, rect[0] - ref_size), min(im_rw - ref_size, rect[2]))\n",
    "    y0 = random.randint(max(0, rect[1] - ref_size), min(im_rh - ref_size, rect[3]))\n",
    "\n",
    "    # img = img[y0:y0 + ref_size, x0:x0 + ref_size, ...]\n",
    "    alpha = alpha[y0:y0 + ref_size, x0:x0 + ref_size, ...]\n",
    "    \n",
    "    return alpha\n",
    "\n",
    "res = resize_and_crop_by_alpha(alpha)\n",
    "Image.fromarray(np.array(res, dtype=np.uint8))"
   ]
  }
 ],
 "metadata": {
  "kernelspec": {
   "display_name": "Python 3.8.13 ('hrnet')",
   "language": "python",
   "name": "python3"
  },
  "language_info": {
   "codemirror_mode": {
    "name": "ipython",
    "version": 3
   },
   "file_extension": ".py",
   "mimetype": "text/x-python",
   "name": "python",
   "nbconvert_exporter": "python",
   "pygments_lexer": "ipython3",
   "version": "3.8.13"
  },
  "orig_nbformat": 4,
  "vscode": {
   "interpreter": {
    "hash": "598fd409a443807d6a2169d707c3340b253e6d0666aad806a3124513fbe3224b"
   }
  }
 },
 "nbformat": 4,
 "nbformat_minor": 2
}
