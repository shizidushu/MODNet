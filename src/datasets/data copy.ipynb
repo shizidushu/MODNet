{
 "cells": [
  {
   "cell_type": "code",
   "execution_count": 639,
   "metadata": {},
   "outputs": [],
   "source": [
    "from base_dataset import BaseDataset\n",
    "import random\n",
    "from torchvision import transforms\n",
    "import numpy as np\n",
    "from PIL import Image\n",
    "import cv2\n",
    "\n",
    "from util import gen_trimap, gen_trimap_with_dilate, gen_trimap_with_dilate_bbox"
   ]
  },
  {
   "cell_type": "code",
   "execution_count": 640,
   "metadata": {},
   "outputs": [],
   "source": [
    "# root_dir = '/home/ubuntu/data/workspace/deeplabv3_plus/people_segmentation'\n",
    "# ds = BaseDataset(root_dir, img_dir=\"images\", alpha_dir=\"masks\")"
   ]
  },
  {
   "cell_type": "code",
   "execution_count": 641,
   "metadata": {},
   "outputs": [],
   "source": [
    "# ds = BaseDataset( \"/home/ubuntu/data/yong/projects/MODNet/data/PPM-100\",\n",
    "#         \"image\",\n",
    "#         \"matte\")"
   ]
  },
  {
   "cell_type": "code",
   "execution_count": 642,
   "metadata": {},
   "outputs": [],
   "source": [
    "# ds = BaseDataset( \"/home/ubuntu/data/yong/projects/P3M/data/P3M-10k/train\",\n",
    "#         \"blurred_image\",\n",
    "#         \"mask\")"
   ]
  },
  {
   "cell_type": "code",
   "execution_count": 1038,
   "metadata": {},
   "outputs": [
    {
     "name": "stdout",
     "output_type": "stream",
     "text": [
      "290 samples\n"
     ]
    }
   ],
   "source": [
    "ds = BaseDataset( \"/home/ubuntu/data/yong/dataset/Human-Segmentation-Dataset\",\n",
    "        \"Training_Images\",\n",
    "        \"Ground_Truth\")"
   ]
  },
  {
   "cell_type": "code",
   "execution_count": 1039,
   "metadata": {},
   "outputs": [],
   "source": [
    "# ds = BaseDataset( \"/home/ubuntu/data/yong/dataset/human_matting_dataset_kaggle\",\n",
    "#         \"JPEGImages\",\n",
    "#         \"SegmentationClassPNG\")"
   ]
  },
  {
   "cell_type": "code",
   "execution_count": 1040,
   "metadata": {},
   "outputs": [],
   "source": [
    "# ds = BaseDataset( \"/home/ubuntu/data/yong/dataset/segmentation_full_body_mads_dataset_1192_img\",\n",
    "#         \"images\",\n",
    "#         \"masks\")"
   ]
  },
  {
   "cell_type": "code",
   "execution_count": 1041,
   "metadata": {},
   "outputs": [],
   "source": [
    "# ds = BaseDataset( \"/home/ubuntu/data/yong/dataset/RealWorldPortrait-636\",\n",
    "#         \"image\",\n",
    "#         \"alpha\")"
   ]
  },
  {
   "cell_type": "code",
   "execution_count": 1042,
   "metadata": {},
   "outputs": [],
   "source": [
    "# ds = BaseDataset(\"/home/ubuntu/data/yong/dataset/people_segmentation\",\n",
    "#         \"images\",\n",
    "#         \"profiles\")"
   ]
  },
  {
   "cell_type": "code",
   "execution_count": 1043,
   "metadata": {},
   "outputs": [],
   "source": [
    "rand_idx = random.randint(0, len(ds) - 1)\n",
    "sample = ds[rand_idx]"
   ]
  },
  {
   "cell_type": "code",
   "execution_count": 1044,
   "metadata": {},
   "outputs": [],
   "source": [
    "alpha_path, weight, img, trimap, alpha = sample"
   ]
  },
  {
   "cell_type": "code",
   "execution_count": 1045,
   "metadata": {},
   "outputs": [],
   "source": [
    "alpha = np.array(Image.open(alpha_path))\n",
    "if alpha.shape[-1] == 4:\n",
    "    if len(np.unique(alpha[..., -1])) == 1:\n",
    "        alpha = alpha[..., :-1]\n",
    "alpha = alpha[..., -1] if len(alpha.shape) > 2 else alpha\n",
    "\n",
    "if 'profile' in alpha_path:\n",
    "    alpha = 255 - alpha"
   ]
  },
  {
   "cell_type": "code",
   "execution_count": 1046,
   "metadata": {},
   "outputs": [],
   "source": [
    "if np.amax(alpha) <= 1:\n",
    "    alpha = alpha * 255.0"
   ]
  },
  {
   "cell_type": "code",
   "execution_count": 1047,
   "metadata": {},
   "outputs": [
    {
     "data": {
      "image/png": "[encoded data removed]",
      "text/plain": [
       "<PIL.Image.Image image mode=L size=640x480 at 0x7F0A8851BC10>"
      ]
     },
     "execution_count": 1047,
     "metadata": {},
     "output_type": "execute_result"
    }
   ],
   "source": [
    "Image.fromarray(np.array(alpha, dtype=np.uint8))"
   ]
  },
  {
   "cell_type": "code",
   "execution_count": 1048,
   "metadata": {},
   "outputs": [],
   "source": [
    "# np.unique(alpha)"
   ]
  },
  {
   "cell_type": "code",
   "execution_count": 1049,
   "metadata": {},
   "outputs": [],
   "source": [
    "import random"
   ]
  },
  {
   "cell_type": "code",
   "execution_count": 1050,
   "metadata": {},
   "outputs": [],
   "source": [
    "def get_bbox(alpha):\n",
    "    foreground = alpha > 0.0\n",
    "    res = None\n",
    "    res = Image.fromarray(foreground).getbbox()\n",
    "    if res is None:\n",
    "        left, upper, right, ylower = 0, 0, alpha.shape[1], alpha.shape[0]\n",
    "    else:\n",
    "        left, upper, right, ylower = res\n",
    "    return (left, upper, right, ylower)"
   ]
  },
  {
   "cell_type": "code",
   "execution_count": 1051,
   "metadata": {},
   "outputs": [],
   "source": [
    "def draw_bbox(alpha):\n",
    "    rect = get_bbox(alpha)\n",
    "    rect_width = rect[2] - rect[0]\n",
    "    rect_height = rect[3] - rect[1]\n",
    "    res = cv2.rectangle(np.array(alpha, dtype=np.uint8), rect[:2], rect[2:], color = 128, thickness =2)\n",
    "    return res"
   ]
  },
  {
   "cell_type": "code",
   "execution_count": 1052,
   "metadata": {},
   "outputs": [],
   "source": [
    "# res  = draw_bbox(alpha)\n",
    "# Image.fromarray(np.array(res, dtype=np.uint8))"
   ]
  },
  {
   "cell_type": "code",
   "execution_count": 1053,
   "metadata": {},
   "outputs": [],
   "source": [
    "def resize_and_crop_by_bbox(alpha, ref_size = 512, random_scale = 1.5):\n",
    "    rect = get_bbox(alpha)\n",
    "    rect_width = rect[2] - rect[0]\n",
    "    rect_height = rect[3] - rect[1]\n",
    "\n",
    "    im_h, im_w = alpha.shape\n",
    "\n",
    "    # 将BBOX裁剪出来\n",
    "    width_pad = int(rect_width / 2.0)\n",
    "    height_pad = int(rect_height / 2.0)\n",
    "    pad_for_long_side = max(width_pad, height_pad)\n",
    "    pad_for_short_side = pad_for_long_side + int(abs(rect_height - rect_width) / 2.0)\n",
    "    if im_h >= im_w:\n",
    "        x_start = max(rect[0] - pad_for_short_side, 0)\n",
    "        x_end = min(rect[2] + pad_for_short_side, im_w - 1)\n",
    "        y_start = max(rect[1] - pad_for_long_side, 0)\n",
    "        y_end = min(rect[3] + pad_for_long_side, im_h - 1)\n",
    "    else:\n",
    "        x_start = max(rect[0] - pad_for_long_side, 0)\n",
    "        x_end = min(rect[2] + pad_for_long_side, im_w - 1)\n",
    "        y_start = max(rect[1] - pad_for_short_side, 0)\n",
    "        y_end = min(rect[3] + pad_for_short_side, im_h - 1)\n",
    "    alpha = alpha[y_start:y_end, x_start:x_end, ...]\n",
    "\n",
    "    # 将短边缩短到512\n",
    "    im_h, im_w = alpha.shape\n",
    "    # 非标准512x512图片，resize到短边为ref_size~ref_size*random_scale\n",
    "    # 然后center crop 或 random crop\n",
    "    if not (im_h == ref_size and im_w == ref_size):\n",
    "        random_size = np.random.randint(ref_size, int(ref_size * random_scale))\n",
    "        if im_w >= im_h:\n",
    "            im_rh = random_size\n",
    "            im_rw = int(im_w / im_h * random_size)\n",
    "        elif im_w < im_h:\n",
    "            im_rw = random_size\n",
    "            im_rh = int(im_h / im_w * random_size)\n",
    "\n",
    "    # img = cv2.resize(img, (im_rw, im_rh), interpolation=cv2.INTER_LINEAR)\n",
    "    alpha = cv2.resize(alpha, (im_rw, im_rh), interpolation=cv2.INTER_LINEAR)\n",
    "\n",
    "    # random crop\n",
    "    x0 = random.randint(0, im_rw - ref_size)\n",
    "    y0 = random.randint(0, im_rh - ref_size)\n",
    "    # img = img[y0:y0 + ref_size, x0:x0 + ref_size, ...]\n",
    "    alpha = alpha[y0:y0 + ref_size, x0:x0 + ref_size]\n",
    "    \n",
    "    return alpha"
   ]
  },
  {
   "cell_type": "code",
   "execution_count": 1078,
   "metadata": {},
   "outputs": [
    {
     "name": "stdout",
     "output_type": "stream",
     "text": [
      "(512, 512)\n"
     ]
    },
    {
     "data": {
      "image/png": "[encoded data removed]",
      "text/plain": [
       "<PIL.Image.Image image mode=L size=512x512 at 0x7F0A8851B430>"
      ]
     },
     "execution_count": 1078,
     "metadata": {},
     "output_type": "execute_result"
    }
   ],
   "source": [
    "res = resize_and_crop_by_bbox(alpha)\n",
    "print(res.shape)\n",
    "Image.fromarray(np.array(res, dtype=np.uint8))"
   ]
  },
  {
   "cell_type": "code",
   "execution_count": null,
   "metadata": {},
   "outputs": [],
   "source": []
  }
 ],
 "metadata": {
  "kernelspec": {
   "display_name": "Python 3.8.13 ('hrnet')",
   "language": "python",
   "name": "python3"
  },
  "language_info": {
   "codemirror_mode": {
    "name": "ipython",
    "version": 3
   },
   "file_extension": ".py",
   "mimetype": "text/x-python",
   "name": "python",
   "nbconvert_exporter": "python",
   "pygments_lexer": "ipython3",
   "version": "3.8.13"
  },
  "orig_nbformat": 4,
  "vscode": {
   "interpreter": {
    "hash": "598fd409a443807d6a2169d707c3340b253e6d0666aad806a3124513fbe3224b"
   }
  }
 },
 "nbformat": 4,
 "nbformat_minor": 2
}
